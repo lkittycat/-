{
 "cells": [
  {
   "cell_type": "code",
   "execution_count": 2,
   "id": "d00dc948-b535-4b03-884d-c00d6b1c4dde",
   "metadata": {
    "tags": []
   },
   "outputs": [
    {
     "name": "stdout",
     "output_type": "stream",
     "text": [
      "lol\n"
     ]
    },
    {
     "name": "stderr",
     "output_type": "stream",
     "text": [
      "[nltk_data] Downloading package stopwords to\n",
      "[nltk_data]     /Users/viktoria.nam/nltk_data...\n",
      "[nltk_data]   Package stopwords is already up-to-date!\n"
     ]
    }
   ],
   "source": [
    "import tensorflow as tf\n",
    "# %tensorflow_version 2.x\n",
    "print('lol')\n",
    "import numpy as np # Для работы с данными \n",
    "import pandas as pd # Для работы с таблицами\n",
    "import matplotlib.pyplot as plt # Для вывода графиков\n",
    "import os # Для работы с файлами\n",
    "\n",
    "\n",
    "from tensorflow.keras import utils # Для работы с категориальными данными\n",
    "from tensorflow.keras.models import Sequential # Полносвязная модель\n",
    "from tensorflow.keras.layers import Dense, Dropout, SpatialDropout1D, BatchNormalization, Embedding, Flatten, Activation # Слои для сети\n",
    "from tensorflow.keras.preprocessing.text import Tokenizer # Методы для работы с текстами и преобразования их в последовательности\n",
    "from tensorflow.keras.layers import Dense, Embedding, SimpleRNN \n",
    "%matplotlib inline \n",
    "from nltk.corpus import stopwords\n",
    "from sklearn.metrics import classification_report, accuracy_score\n",
    "from sklearn.naive_bayes import MultinomialNB\n",
    "from sklearn.utils import shuffle\n",
    "from scipy.sparse import csr_matrix\n",
    "from sklearn.model_selection import train_test_split\n",
    "from keras.preprocessing.text import Tokenizer\n",
    "import pymorphy2\n",
    "import re\n",
    "import nltk\n",
    "nltk.download('stopwords')\n",
    "\n",
    "# 1 - анализируем с нейтральными, 0 - анализируем без нейтральных отзывов\n",
    "WITH_NEU = 1\n",
    "\n"
   ]
  },
  {
   "cell_type": "code",
   "execution_count": 3,
   "id": "bd237522-f9d2-4a3c-9e2f-b7b7436376c9",
   "metadata": {
    "tags": []
   },
   "outputs": [
    {
     "name": "stdout",
     "output_type": "stream",
     "text": [
      "neu\n",
      "neg\n",
      "pos\n",
      "['фильм', 'герой', 'необычный', 'способность', 'пользоваться', 'спрос', 'определённый', 'аудитория', 'зритель', 'коготь', 'кино', 'супермэн', 'бэтмэн', 'человекпаук', 'хэнкок', 'тд', 'мужчиныгерой', 'неудивительный', 'комуть', 'прийти', 'голова', 'наделить', 'уникальный', 'сила', 'женщина', 'мой', 'память', 'женщинакошко', 'соблазнительный', 'латексный', 'костюм', 'ряд', 'суперженщина', 'пополнить', 'ggirl', 'лицо', 'ум', 'турман', 'понять', 'это', 'некий', 'пародия', 'фильм', 'супергерой', 'акцент', 'стоить', 'доблестный', 'подвиг', 'ggirl', 'отношение', 'обычный', 'парень', 'мэтт', 'бедняга', 'думать', 'сначала', 'круто', 'повезти', 'смочь', 'закадрить', 'просто', 'девушка', 'супердевушка', 'оказаться', 'слишком', 'ревнивый', 'начаться', 'веселие', 'мэтт', 'тактично', 'пытаться', 'бросить', 'добрый', 'спасительница', 'мир', 'показать', 'он', 'насколько', 'коварный', 'отвергнуть', 'женщина', 'честной', 'пройти', 'мимо', 'фильм', 'дом', 'валяться', 'диск', 'они', 'сегодня', 'увидеть', 'сниматься', 'люк', 'уилсон', 'анна', 'фэрис', 'поэтому', 'вставить', 'свой', 'dvdплейер', 'сказать', 'комедия', 'прям', 'смешной', 'слеза', 'пара', 'хихикнуть', 'можно', 'настолько', 'плохой', 'ухо', 'свернуться', 'трубочка', 'пошлый', 'глупый', 'шуточка', 'несколько', 'момент', 'ниже', 'пояс', 'сравнивать', 'другой', 'комедия', 'закрыть', 'это', 'глаз', 'понравиться', 'подвиг', 'ggirl', 'словить', 'грабитель', 'сам', 'начало', 'вернуть', 'такси', 'тп', 'спецэффект', 'вызвать', 'огромный', 'восторг', 'глаз', 'резать', 'особо', 'ум', 'турман', 'тёмный', 'парик', 'почемуть', 'стать', 'напоминать', 'тина', 'фея', 'дело', 'очки', 'люк', 'уилсон', 'особо', 'проявить', 'тут', 'играть', 'обычный', 'роль', 'предыдущий', 'работа', 'анна', 'фэрис', 'второй', 'план', 'смотреться', 'всетаки', 'удел', 'это', 'главный', 'роль', 'молодёжный', 'комедия', 'играть', 'глупый', 'блондинка', 'общий', 'обычный', 'развлекательный', 'кино', 'сойти', 'тот', 'убить', 'время', 'пересматривать', 'точно', 'захотеться', 'хотеть', 'чеготь', 'больший', 'советовать', 'поискать', 'другой', 'вариант', 'неплохой', 'задумка', 'который']\n"
     ]
    }
   ],
   "source": [
    "# Путь к папке с текстовыми файлами\n",
    "path = '/Users/viktoria.nam/Downloads/kp_8000'\n",
    "\n",
    "# класс для морфологического анализа\n",
    "morph = pymorphy2.MorphAnalyzer()\n",
    "\n",
    "# Список возможных меток классов\n",
    "labels = ['neu', 'neg', 'pos']\n",
    "\n",
    "# Определяем максимальное количество слов в каждом документе\n",
    "max_words = 25000\n",
    "\n",
    "#стоп слова - не несущие смысловой нагрузки и эмоциональной окраски в текте\n",
    "stop_words = stopwords.words('russian')\n",
    "# Создаем пустые списки для текстов, меток и слов\n",
    "texts = []\n",
    "labels = []\n",
    "words = []\n",
    "\n",
    "# Цикл для перебора отзывов\n",
    "for label in os.listdir(path)[1:]:\n",
    "    print(label)\n",
    "    if not (WITH_NEU == 0 and label == 'neu'):\n",
    "        label_path = os.path.join(path, label)\n",
    "        for file_name in os.listdir(label_path):\n",
    "            file_path = os.path.join(label_path, file_name)\n",
    "            with open(file_path, 'r', encoding='utf-8') as f:\n",
    "                text = f.read()\n",
    "                text = text.lower()\n",
    "                text = text.replace(\"\\n\", \" \")\n",
    "                splitted = text.split()\n",
    "                splitted = [w for w in splitted if w not in stop_words]\n",
    "                sp = []\n",
    "                for w in splitted:\n",
    "                    # очищаем слова от не букв\n",
    "                    w = re.sub(r'[.,\"\\'-?:!;]', '', w)\n",
    "                    # приводим слова к нормальным формам\n",
    "                    w = morph.parse(w)[0].normal_form\n",
    "                    sp.append(w)\n",
    "                text = ' '.join(sp)\n",
    "                texts.append(text)\n",
    "                labels.append(label)\n",
    "                words += text.split()\n",
    "                f.close()\n",
    "\n",
    "print(words[:200])\n",
    "\n",
    "# Создаем словарь для подсчета частоты использования слов\n",
    "word_count = {}\n",
    "for word in words:\n",
    "    if word not in word_count:\n",
    "        word_count[word] = 1\n",
    "    else:\n",
    "        word_count[word] += 1"
   ]
  },
  {
   "cell_type": "code",
   "execution_count": 4,
   "id": "a44f149b-aab7-400a-90bd-f2268063038d",
   "metadata": {
    "tags": []
   },
   "outputs": [],
   "source": [
    "# заменяем текстовые лейблы на классы\n",
    "label_dict = {label: i for i, label in enumerate(set(labels))} \n",
    "labels = [label_dict[label] for label in labels]"
   ]
  },
  {
   "cell_type": "code",
   "execution_count": 5,
   "id": "4b7d4a9d-bbe9-4e9f-b502-f75844cb5a3a",
   "metadata": {
    "tags": []
   },
   "outputs": [
    {
     "name": "stdout",
     "output_type": "stream",
     "text": [
      "фильм герой необычный способность пользоваться спрос определённый аудитория зритель коготь кино супермэн бэтмэн человекпаук хэнкок тд мужчиныгерой неудивительный комуть прийти голова наделить уникальный сила женщина мой память женщинакошко соблазнительный латексный костюм ряд суперженщина пополнить ggirl лицо ум турман понять это некий пародия фильм супергерой акцент стоить доблестный подвиг ggirl отношение обычный парень мэтт бедняга думать сначала круто повезти смочь закадрить просто девушка супердевушка оказаться слишком ревнивый начаться веселие мэтт тактично пытаться бросить добрый спасительница мир показать он насколько коварный отвергнуть женщина честной пройти мимо фильм дом валяться диск они сегодня увидеть сниматься люк уилсон анна фэрис поэтому вставить свой dvdплейер сказать комедия прям смешной слеза пара хихикнуть можно настолько плохой ухо свернуться трубочка пошлый глупый шуточка несколько момент ниже пояс сравнивать другой комедия закрыть это глаз понравиться подвиг ggirl словить грабитель сам начало вернуть такси тп спецэффект вызвать огромный восторг глаз резать особо ум турман тёмный парик почемуть стать напоминать тина фея дело очки люк уилсон особо проявить тут играть обычный роль предыдущий работа анна фэрис второй план смотреться всетаки удел  это главный роль молодёжный комедия играть глупый блондинка общий обычный развлекательный кино сойти тот убить время пересматривать точно захотеться хотеть чеготь больший советовать поискать другой вариант  \n"
     ]
    }
   ],
   "source": [
    "print(texts[0])\n",
    "\n",
    "# перемешиваем данные, чтобы в тестовой выборке было примерно равное количество отзывов разных классов\n",
    "texts, labels = shuffle(texts, labels)\n"
   ]
  },
  {
   "cell_type": "code",
   "execution_count": 6,
   "id": "baf44d48-fc67-4db9-8edb-438798418694",
   "metadata": {
    "tags": []
   },
   "outputs": [],
   "source": [
    "from sklearn.feature_extraction.text import CountVectorizer\n",
    "vect = CountVectorizer()\n",
    "#векторизуем тексты с помощью bow\n",
    "texts_bow = vect.fit_transform(texts) "
   ]
  },
  {
   "cell_type": "code",
   "execution_count": 7,
   "id": "19424a6e-5a1e-4e26-b926-ea1b42d23309",
   "metadata": {
    "tags": []
   },
   "outputs": [],
   "source": [
    "#разделяем данные на обучающую и тестовую выборки\n",
    "data_train_bow, data_test_bow, labels_train, labels_test = train_test_split(texts_bow, labels, test_size=0.3)"
   ]
  },
  {
   "cell_type": "code",
   "execution_count": 8,
   "id": "687b56e4-0016-4e54-9143-c5ed3816b0c2",
   "metadata": {
    "tags": []
   },
   "outputs": [
    {
     "name": "stdout",
     "output_type": "stream",
     "text": [
      "(5457, 75981)\n",
      "(2340, 75981)\n"
     ]
    }
   ],
   "source": [
    "# преобразуем отзывы в массивы\n",
    "data_train_bow = data_train_bow.toarray()\n",
    "data_test_bow = data_test_bow.toarray()\n",
    "print(data_train_bow.shape)\n",
    "print(data_test_bow.shape)"
   ]
  },
  {
   "cell_type": "code",
   "execution_count": 9,
   "id": "8d775cb2-1d41-40eb-b14d-fe97a3e1d9e8",
   "metadata": {
    "tags": []
   },
   "outputs": [],
   "source": [
    "if WITH_NEU == 1: \n",
    "    # если рассматриваем нейтральные, то 3 класса в векторизации лейблов\n",
    "    test_labels_m = tf.keras.utils.to_categorical(labels_test, num_classes=3, dtype='float32')\n",
    "    train_labels_m = tf.keras.utils.to_categorical(labels_train, num_classes=3, dtype='float32')\n",
    "else:\n",
    "    # если не рассматриваем - 2\n",
    "    test_labels_m = tf.keras.utils.to_categorical(labels_test, num_classes=2, dtype='float32')\n",
    "    train_labels_m = tf.keras.utils.to_categorical(labels_train, num_classes=2, dtype='float32')"
   ]
  },
  {
   "cell_type": "code",
   "execution_count": 10,
   "id": "25bf9d8a-1d08-46f7-8e00-27772c535265",
   "metadata": {
    "tags": []
   },
   "outputs": [
    {
     "name": "stdout",
     "output_type": "stream",
     "text": [
      "started\n",
      "Model: \"sequential\"\n",
      "_________________________________________________________________\n",
      " Layer (type)                Output Shape              Param #   \n",
      "=================================================================\n",
      " dense (Dense)               (None, 200)               15196400  \n",
      "                                                                 \n",
      " dropout (Dropout)           (None, 200)               0         \n",
      "                                                                 \n",
      " batch_normalization (BatchN  (None, 200)              800       \n",
      " ormalization)                                                   \n",
      "                                                                 \n",
      " dense_1 (Dense)             (None, 3)                 603       \n",
      "                                                                 \n",
      "=================================================================\n",
      "Total params: 15,197,803\n",
      "Trainable params: 15,197,403\n",
      "Non-trainable params: 400\n",
      "_________________________________________________________________\n",
      "None\n",
      "Model: \"sequential\"\n",
      "_________________________________________________________________\n",
      " Layer (type)                Output Shape              Param #   \n",
      "=================================================================\n",
      " dense (Dense)               (None, 200)               15196400  \n",
      "                                                                 \n",
      " dropout (Dropout)           (None, 200)               0         \n",
      "                                                                 \n",
      " batch_normalization (BatchN  (None, 200)              800       \n",
      " ormalization)                                                   \n",
      "                                                                 \n",
      " dense_1 (Dense)             (None, 3)                 603       \n",
      "                                                                 \n",
      "=================================================================\n",
      "Total params: 15,197,803\n",
      "Trainable params: 15,197,403\n",
      "Non-trainable params: 400\n",
      "_________________________________________________________________\n",
      "Epoch 1/15\n"
     ]
    },
    {
     "name": "stderr",
     "output_type": "stream",
     "text": [
      "2023-05-15 00:44:10.311344: W tensorflow/tsl/platform/profile_utils/cpu_utils.cc:128] Failed to get CPU frequency: 0 Hz\n"
     ]
    },
    {
     "name": "stdout",
     "output_type": "stream",
     "text": [
      "43/43 [==============================] - 8s 168ms/step - loss: 1.0853 - accuracy: 0.5430 - val_loss: 0.9214 - val_accuracy: 0.5778\n",
      "Epoch 2/15\n",
      "43/43 [==============================] - 10s 234ms/step - loss: 0.2544 - accuracy: 0.9467 - val_loss: 0.8744 - val_accuracy: 0.5829\n",
      "Epoch 3/15\n",
      "43/43 [==============================] - 9s 215ms/step - loss: 0.0869 - accuracy: 0.9912 - val_loss: 0.8651 - val_accuracy: 0.5808\n",
      "Epoch 4/15\n",
      "43/43 [==============================] - 14s 337ms/step - loss: 0.0331 - accuracy: 0.9984 - val_loss: 0.8578 - val_accuracy: 0.5906\n",
      "Epoch 5/15\n",
      "43/43 [==============================] - 10s 236ms/step - loss: 0.0154 - accuracy: 0.9998 - val_loss: 0.8651 - val_accuracy: 0.5868\n",
      "Epoch 6/15\n",
      "43/43 [==============================] - 8s 190ms/step - loss: 0.0092 - accuracy: 0.9998 - val_loss: 0.8762 - val_accuracy: 0.5944\n",
      "Epoch 7/15\n",
      "43/43 [==============================] - 10s 240ms/step - loss: 0.0057 - accuracy: 1.0000 - val_loss: 0.8999 - val_accuracy: 0.5949\n",
      "Epoch 8/15\n",
      "43/43 [==============================] - 6s 148ms/step - loss: 0.0044 - accuracy: 1.0000 - val_loss: 0.9260 - val_accuracy: 0.5970\n",
      "Epoch 9/15\n",
      "43/43 [==============================] - 5s 118ms/step - loss: 0.0032 - accuracy: 1.0000 - val_loss: 0.9623 - val_accuracy: 0.5962\n",
      "Epoch 10/15\n",
      "43/43 [==============================] - 9s 208ms/step - loss: 0.0027 - accuracy: 1.0000 - val_loss: 0.9962 - val_accuracy: 0.5974\n",
      "Epoch 11/15\n",
      "43/43 [==============================] - 7s 167ms/step - loss: 0.0021 - accuracy: 1.0000 - val_loss: 1.0340 - val_accuracy: 0.6013\n",
      "Epoch 12/15\n",
      "43/43 [==============================] - 6s 130ms/step - loss: 0.0018 - accuracy: 1.0000 - val_loss: 1.0647 - val_accuracy: 0.5991\n",
      "Epoch 13/15\n",
      "43/43 [==============================] - 8s 198ms/step - loss: 0.0015 - accuracy: 1.0000 - val_loss: 1.0879 - val_accuracy: 0.5962\n",
      "Epoch 14/15\n",
      "43/43 [==============================] - 7s 167ms/step - loss: 0.0012 - accuracy: 1.0000 - val_loss: 1.1165 - val_accuracy: 0.5944\n",
      "Epoch 15/15\n",
      "43/43 [==============================] - 6s 150ms/step - loss: 0.0011 - accuracy: 1.0000 - val_loss: 1.1332 - val_accuracy: 0.5953\n"
     ]
    },
    {
     "data": {
      "image/png": "[encoded data removed]",
      "text/plain": [
       "<Figure size 640x480 with 1 Axes>"
      ]
     },
     "metadata": {},
     "output_type": "display_data"
    }
   ],
   "source": [
    "#Создаём сеть\n",
    "print('started')\n",
    "model = Sequential()\n",
    "#Первый полносвязный слой\n",
    "model.add(Dense(200, input_dim = data_train_bow.shape[1], activation=\"relu\"))\n",
    "#Слой регуляризации Dropout\n",
    "model.add(Dropout(0.25))\n",
    "#Слой пакетной нормализации\n",
    "model.add(BatchNormalization())\n",
    "#Выходной полносвязный слой\n",
    "if WITH_NEU == 1:\n",
    "    # если рассматриваем нейтральные, то 3 класса в векторизации лейблов\n",
    "    model.add(Dense(3, activation = 'softmax'))\n",
    "else:\n",
    "    #если не рассматриваем - 2\n",
    "    model.add(Dense(2, activation = 'softmax'))\n",
    "print(model.summary())    \n",
    "# Скомпилируем модель\n",
    "model.compile(optimizer='adam', loss='categorical_crossentropy', metrics=['accuracy'])\n",
    "#Информация о модели\n",
    "model.summary()\n",
    "\n",
    "#Обучаем сеть \n",
    "history = model.fit(data_train_bow, train_labels_m, epochs=15, batch_size=128, validation_data=(data_test_bow, test_labels_m))\n",
    "\n",
    "plt.plot(history.history['accuracy'], label='Доля верных ответов на обучающем наборе')\n",
    "plt.plot(history.history['val_accuracy'], label='Доля верных ответов на проверочном наборе')\n",
    "plt.xlabel('Эпоха обучения')\n",
    "plt.ylabel('Доля верных ответов')\n",
    "plt.legend()\n",
    "plt.show()\n"
   ]
  },
  {
   "cell_type": "code",
   "execution_count": 3,
   "id": "7a998cb2-57da-44bd-aa0c-46dd18f7d3d3",
   "metadata": {},
   "outputs": [
    {
     "ename": "IndentationError",
     "evalue": "expected an indented block (2953508221.py, line 8)",
     "output_type": "error",
     "traceback": [
      "\u001b[0;36m  Cell \u001b[0;32mIn[3], line 8\u001b[0;36m\u001b[0m\n\u001b[0;31m    def update_values_with_unsupervised(values, state, reward, next_state, alpha, gamma, cluster_labels):\u001b[0m\n\u001b[0m    ^\u001b[0m\n\u001b[0;31mIndentationError\u001b[0m\u001b[0;31m:\u001b[0m expected an indented block\n"
     ]
    }
   ],
   "source": [
    "import random\n",
    "import numpy as np\n",
    "from sklearn.cluster import KMeans\n",
    "\n",
    "class TTMDP:\n",
    "    # ... (ваш код)\n",
    "\n",
    "def update_values_with_unsupervised(values, state, reward, next_state, alpha, gamma, cluster_labels):\n",
    "    current_value = values.get((state, cluster_labels), 0)\n",
    "    next_value = values.get((next_state, cluster_labels), 0)\n",
    "    updated_value = current_value + alpha * (reward + gamma * next_value - current_value)\n",
    "    values[(state, cluster_labels)] = updated_value\n",
    "\n",
    "def unsupervised_learning(X):\n",
    "    kmeans = KMeans(n_clusters=2, random_state=0)\n",
    "    return kmeans.fit_predict(X)\n",
    "\n",
    "def monte_carlo_with_td_learning_and_unsupervised(agent, num):\n",
    "    values = {}\n",
    "    flat_states = [tuple(row) for row in agent.states]\n",
    "    X_unsupervised = np.array(flat_states).reshape(-1, 1)\n",
    "    cluster_labels = unsupervised_learning(X_unsupervised)\n",
    "\n",
    "    for _ in range(num):\n",
    "        agent.reset()\n",
    "        current_state = [row.copy() for row in agent.states]\n",
    "        rewards = {0: 0, 1: 0, -1: 0}\n",
    "        history = []\n",
    "\n",
    "        while True:\n",
    "            move, result = agent.move()\n",
    "            history.append((tuple(row), result))\n",
    "\n",
    "            if result is not None:\n",
    "                break\n",
    "\n",
    "            current_state[move[0]][move[1]] = 1\n",
    "\n",
    "        rewards[result] = 1\n",
    "\n",
    "        for i in range(len(history) - 1):\n",
    "            state, _ = history[i]\n",
    "            next_state, _ = history[i + 1]\n",
    "            update_values_with_unsupervised(values, state, rewards[result], next_state, agent.alpha, agent.gamma, cluster_labels)\n",
    "\n",
    "    return values\n",
    "\n",
    "if __name__ == '__main__':\n",
    "    process = TTMDP()\n",
    "    num_simulations = 1000000\n",
    "\n",
    "    learned_values = monte_carlo_with_td_learning_and_unsupervised(process, num_simulations)\n"
   ]
  },
  {
   "cell_type": "code",
   "execution_count": null,
   "id": "c8ddcd8b-5729-42a8-b1c8-a81d073dde7f",
   "metadata": {},
   "outputs": [],
   "source": []
  },
  {
   "cell_type": "code",
   "execution_count": null,
   "id": "e3abcd98-ff76-41fa-bb9d-87f05d8a5d58",
   "metadata": {},
   "outputs": [],
   "source": []
  }
 ],
 "metadata": {
  "kernelspec": {
   "display_name": "Python 3 (ipykernel)",
   "language": "python",
   "name": "python3"
  },
  "language_info": {
   "codemirror_mode": {
    "name": "ipython",
    "version": 3
   },
   "file_extension": ".py",
   "mimetype": "text/x-python",
   "name": "python",
   "nbconvert_exporter": "python",
   "pygments_lexer": "ipython3",
   "version": "3.10.13"
  }
 },
 "nbformat": 4,
 "nbformat_minor": 5
}
